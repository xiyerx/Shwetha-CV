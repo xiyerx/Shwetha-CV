{
  "nbformat": 4,
  "nbformat_minor": 0,
  "metadata": {
    "colab": {
      "provenance": []
    },
    "kernelspec": {
      "name": "python3",
      "display_name": "Python 3"
    },
    "language_info": {
      "name": "python"
    }
  },
  "cells": [
    {
      "cell_type": "markdown",
      "source": [
        "# **CV Lab 4: Chain Code**\n",
        "\n",
        "Name: Shwetha Iyer\n",
        "\n",
        "Batch: A4\n",
        "\n",
        "PRN: 1032211195\n"
      ],
      "metadata": {
        "id": "Y6xIx_RgAISu"
      }
    },
    {
      "cell_type": "code",
      "source": [
        "import numpy as np\n",
        "import matplotlib.pyplot as plt\n",
        "import cv2\n",
        "from __future__ import division\n",
        "import math\n",
        "from google.colab.patches import cv2_imshow"
      ],
      "metadata": {
        "id": "lcGI2VmJsS99"
      },
      "execution_count": 207,
      "outputs": []
    },
    {
      "cell_type": "code",
      "source": [
        "img = cv2.imread('/content/5.jpg',0)\n",
        "img = cv2.resize(img,(50,50))\n",
        "_, img = cv2.threshold(img, 127, 255, cv2.THRESH_BINARY_INV)\n",
        "plt.imshow(img, cmap = 'gray')"
      ],
      "metadata": {
        "colab": {
          "base_uri": "https://localhost:8080/",
          "height": 450
        },
        "id": "dmCKf5ywsjq1",
        "outputId": "c4a36312-d83a-4b43-e676-c643d9491ed6"
      },
      "execution_count": 208,
      "outputs": [
        {
          "output_type": "execute_result",
          "data": {
            "text/plain": [
              "<matplotlib.image.AxesImage at 0x7bf16f4e9bd0>"
            ]
          },
          "metadata": {},
          "execution_count": 208
        },
        {
          "output_type": "display_data",
          "data": {
            "text/plain": [
              "<Figure size 640x480 with 1 Axes>"
            ],
            "image/png": "[encoded data removed]"
          },
          "metadata": {}
        }
      ]
    },
    {
      "cell_type": "markdown",
      "source": [
        "# ***Chain-Code***"
      ],
      "metadata": {
        "id": "76y_ziNMcp4I"
      }
    },
    {
      "cell_type": "code",
      "execution_count": 209,
      "metadata": {
        "colab": {
          "base_uri": "https://localhost:8080/"
        },
        "id": "l1f1WuoErNci",
        "outputId": "81325eb9-9343-4830-b79a-ecba9839666a"
      },
      "outputs": [
        {
          "output_type": "stream",
          "name": "stdout",
          "text": [
            "(9, 16) 255\n"
          ]
        }
      ],
      "source": [
        "## Discover the starting point\n",
        "for i, row in enumerate(img):\n",
        "    for j, value in enumerate(row):\n",
        "        if value == 255:\n",
        "            start_point = (i, j)\n",
        "            print(start_point, value)\n",
        "            break\n",
        "    else:\n",
        "        continue\n",
        "    break"
      ]
    },
    {
      "cell_type": "code",
      "source": [
        "directions = [ 0,  1,  2,\n",
        "               7,      3,\n",
        "               6,  5,  4]\n",
        "dir2idx = dict(zip(directions, range(len(directions))))\n",
        "\n",
        "change_j =   [-1,  0,  1, # x or columns\n",
        "              -1,      1,\n",
        "              -1,  0,  1]\n",
        "\n",
        "change_i =   [-1, -1, -1, # y or rows\n",
        "               0,      0,\n",
        "               1,  1,  1]"
      ],
      "metadata": {
        "id": "wZ-2cRavsTTV"
      },
      "execution_count": 210,
      "outputs": []
    },
    {
      "cell_type": "code",
      "source": [
        "border = []\n",
        "chain = []\n",
        "curr_point = start_point\n",
        "for direction in directions:\n",
        "    idx = dir2idx[direction]\n",
        "    new_point = (start_point[0]+change_i[idx], start_point[1]+change_j[idx])\n",
        "    if img[new_point] != 0: # if is ROI\n",
        "        border.append(new_point)\n",
        "        chain.append(direction)\n",
        "        curr_point = new_point\n",
        "        break"
      ],
      "metadata": {
        "id": "8TJmhVXguszG"
      },
      "execution_count": 211,
      "outputs": []
    },
    {
      "cell_type": "code",
      "source": [
        "count = 0\n",
        "while curr_point != start_point:\n",
        "    #figure direction to start search\n",
        "    b_direction = (direction + 5) % 8\n",
        "    dirs_1 = range(b_direction, 8)\n",
        "    dirs_2 = range(0, b_direction)\n",
        "    dirs = []\n",
        "    dirs.extend(dirs_1)\n",
        "    dirs.extend(dirs_2)\n",
        "    for direction in dirs:\n",
        "        idx = dir2idx[direction]\n",
        "        new_point = (curr_point[0]+change_i[idx], curr_point[1]+change_j[idx])\n",
        "        if img[new_point] != 0: # if is ROI\n",
        "            border.append(new_point)\n",
        "            chain.append(direction)\n",
        "            curr_point = new_point\n",
        "            break\n",
        "    if count == 1000: break\n",
        "    count += 1\n",
        "\n",
        "def first_difference(chain):\n",
        "    fd_list = []\n",
        "    for i in range(len(chain) - 1):\n",
        "        fd_list.append(abs(chain[i + 1] - chain[i]) % 8)\n",
        "    return fd_list"
      ],
      "metadata": {
        "id": "TdoXo6Mcuui8"
      },
      "execution_count": 212,
      "outputs": []
    },
    {
      "cell_type": "code",
      "source": [
        "print(\"Length:\", count)\n",
        "print(\"Chain Code:\",chain)\n",
        "print(\"First Difference:\",first_difference(chain))"
      ],
      "metadata": {
        "colab": {
          "base_uri": "https://localhost:8080/"
        },
        "id": "qPweth8UvUgN",
        "outputId": "ac892edb-1250-4757-fd37-13b39980dd02"
      },
      "execution_count": 213,
      "outputs": [
        {
          "output_type": "stream",
          "name": "stdout",
          "text": [
            "Length: 171\n",
            "Chain Code: [3, 3, 3, 3, 3, 3, 3, 5, 4, 2, 1, 3, 3, 3, 3, 3, 3, 3, 3, 3, 3, 3, 3, 3, 3, 3, 3, 5, 4, 3, 5, 5, 7, 7, 7, 6, 5, 7, 7, 7, 7, 7, 7, 7, 7, 7, 7, 7, 7, 7, 7, 7, 7, 7, 6, 5, 5, 7, 6, 5, 4, 3, 3, 3, 4, 5, 4, 3, 3, 3, 5, 4, 3, 4, 3, 3, 3, 5, 5, 5, 5, 5, 5, 5, 5, 5, 7, 6, 5, 7, 6, 5, 7, 6, 7, 7, 7, 7, 7, 7, 7, 7, 7, 7, 7, 7, 0, 7, 1, 0, 1, 0, 7, 1, 1, 1, 1, 3, 3, 5, 4, 3, 5, 4, 3, 3, 3, 3, 3, 3, 3, 3, 3, 3, 2, 1, 1, 1, 1, 1, 1, 0, 7, 7, 1, 0, 7, 7, 7, 0, 7, 7, 7, 1, 0, 7, 7, 1, 1, 1, 1, 1, 1, 2, 1, 1, 1, 3, 2, 1, 1, 1]\n",
            "First Difference: [0, 0, 0, 0, 0, 0, 2, 1, 2, 1, 2, 0, 0, 0, 0, 0, 0, 0, 0, 0, 0, 0, 0, 0, 0, 0, 2, 1, 1, 2, 0, 2, 0, 0, 1, 1, 2, 0, 0, 0, 0, 0, 0, 0, 0, 0, 0, 0, 0, 0, 0, 0, 0, 1, 1, 0, 2, 1, 1, 1, 1, 0, 0, 1, 1, 1, 1, 0, 0, 2, 1, 1, 1, 1, 0, 0, 2, 0, 0, 0, 0, 0, 0, 0, 0, 2, 1, 1, 2, 1, 1, 2, 1, 1, 0, 0, 0, 0, 0, 0, 0, 0, 0, 0, 0, 7, 7, 6, 1, 1, 1, 7, 6, 0, 0, 0, 2, 0, 2, 1, 1, 2, 1, 1, 0, 0, 0, 0, 0, 0, 0, 0, 0, 1, 1, 0, 0, 0, 0, 0, 1, 7, 0, 6, 1, 7, 0, 0, 7, 7, 0, 0, 6, 1, 7, 0, 6, 0, 0, 0, 0, 0, 1, 1, 0, 0, 2, 1, 1, 0, 0]\n"
          ]
        }
      ]
    },
    {
      "cell_type": "code",
      "source": [
        "plt.imshow(img, cmap='gray')\n",
        "plt.plot([i[1] for i in border], [i[0] for i in border])"
      ],
      "metadata": {
        "colab": {
          "base_uri": "https://localhost:8080/",
          "height": 450
        },
        "id": "YeR8S_yqoTED",
        "outputId": "9b49d111-0e87-4eaf-f748-3af30a428efb"
      },
      "execution_count": 214,
      "outputs": [
        {
          "output_type": "execute_result",
          "data": {
            "text/plain": [
              "[<matplotlib.lines.Line2D at 0x7bf16ed88970>]"
            ]
          },
          "metadata": {},
          "execution_count": 214
        },
        {
          "output_type": "display_data",
          "data": {
            "text/plain": [
              "<Figure size 640x480 with 1 Axes>"
            ],
            "image/png": "[encoded data removed]"
          },
          "metadata": {}
        }
      ]
    },
    {
      "cell_type": "markdown",
      "source": [
        "# ***Recognizing Shapes Using Chain-Code***"
      ],
      "metadata": {
        "id": "ogFCzrql7aYy"
      }
    },
    {
      "cell_type": "code",
      "source": [
        "def find_start_pos(img):\n",
        "    for i in range(len(img)):\n",
        "        for j in range(len(img[i])):\n",
        "            if img[i][j] == 255:\n",
        "                return i, j\n",
        "    return 0, 0"
      ],
      "metadata": {
        "id": "p54W3DKB7BxP"
      },
      "execution_count": 215,
      "outputs": []
    },
    {
      "cell_type": "code",
      "source": [
        "def get_new_pos(current, direction):\n",
        "    if direction == 0:\n",
        "        return current[0] + 0, current[1] - 1\n",
        "    elif direction == 1:\n",
        "        return current[0] - 1, current[1] - 1\n",
        "    elif direction == 2:\n",
        "        return current[0] - 1, current[1] + 0\n",
        "    elif direction == 3:\n",
        "        return current[0] - 1, current[1] + 1\n",
        "    elif direction == 4:\n",
        "        return current[0] + 0, current[1] + 1\n",
        "    elif direction == 5:\n",
        "        return current[0] + 1, current[1] + 1\n",
        "    elif direction == 6:\n",
        "        return current[0] + 1, current[1] + 0\n",
        "    else:\n",
        "        return current[0] + 1, current[1] - 1"
      ],
      "metadata": {
        "id": "HtECLw-GYaTp"
      },
      "execution_count": 216,
      "outputs": []
    },
    {
      "cell_type": "code",
      "source": [
        "def get_next_neighbor(current, prev, img):\n",
        "    neighbors = [\n",
        "        img[current[0] + 0][current[1] - 1],\n",
        "        img[current[0] - 1][current[1] - 1],\n",
        "        img[current[0] - 1][current[1] + 0],\n",
        "        img[current[0] - 1][current[1] + 1],\n",
        "        img[current[0] + 0][current[1] + 1],\n",
        "        img[current[0] + 1][current[1] + 1],\n",
        "        img[current[0] + 1][current[1] + 0],\n",
        "        img[current[0] + 1][current[1] - 1]\n",
        "    ]\n",
        "    direction = (prev + 1) % 8\n",
        "    while direction != prev:\n",
        "        if neighbors[direction] == 255:\n",
        "            return get_new_pos(current, direction), (direction + 4) % 8\n",
        "        direction = (direction + 1) % 8\n",
        "    return None, (direction + 4) % 8"
      ],
      "metadata": {
        "id": "OQjmOTzL7pr0"
      },
      "execution_count": 217,
      "outputs": []
    },
    {
      "cell_type": "code",
      "source": [
        "def first_difference(list):\n",
        "    fd_list = []\n",
        "    c = list[-1]\n",
        "    list.insert(0, c)\n",
        "    for x in range(len(list)-1):\n",
        "        counter = 0\n",
        "        pointer = list[x]\n",
        "        while True:\n",
        "            if list[x+1] == pointer:\n",
        "                fd_list.append(counter)\n",
        "                break\n",
        "            else:\n",
        "                counter += 1\n",
        "                pointer = (pointer + 1) % 8\n",
        "    return fd_list"
      ],
      "metadata": {
        "id": "iQedvtg07tvl"
      },
      "execution_count": 218,
      "outputs": []
    },
    {
      "cell_type": "code",
      "source": [
        "def boxRatio(box):\n",
        "    xs = [p[0] for p in box]\n",
        "    ys = [p[1] for p in box]\n",
        "    xMin, xMax, yMin, yMax = min(xs), max(xs), min(ys), max(ys)\n",
        "    h = yMax - yMin\n",
        "    w = xMax - xMin\n",
        "    ratio = float(max(h, w))/float(min(h, w))\n",
        "    return ratio, h, w"
      ],
      "metadata": {
        "id": "AgUdTbaz762Z"
      },
      "execution_count": 219,
      "outputs": []
    },
    {
      "cell_type": "code",
      "source": [
        "def shapeBox(box, sq):\n",
        "    xs = [p[0] for p in box]\n",
        "    ys = [p[1] for p in box]\n",
        "    xMin, xMax, yMin, yMax = min(xs), max(xs), min(ys), max(ys)\n",
        "    h = yMax - yMin\n",
        "    w = xMax - xMin\n",
        "\n",
        "    addedHeight = shapeAdd(h, sq)\n",
        "    addedWidth = shapeAdd(w, sq)\n",
        "\n",
        "    newBox = np.array(list(map(lambda p: [p[0] + addedWidth, p[1] + addedHeight] if (p[0] == xMax and p[1] == yMax)\n",
        "                        else [p[0] + addedWidth, p[1]] if (p[0] == xMax)\n",
        "                        else [p[0], p[1] + addedHeight] if (p[1] == yMax)\n",
        "                        else p, box)))\n",
        "\n",
        "    return newBox\n",
        "\n",
        "\n",
        "def shapeAdd(d, sq):\n",
        "    return 0 if d % sq == 0 else sq - d % sq\n"
      ],
      "metadata": {
        "id": "ABDr_J7l79F7"
      },
      "execution_count": 220,
      "outputs": []
    },
    {
      "cell_type": "code",
      "source": [
        "def grid(shapeBox):\n",
        "    shapeBox = list(map(list, shapeBox))\n",
        "    orderedPoints = []\n",
        "\n",
        "    if len(shapeBox) == 0:\n",
        "        return orderedPoints  # Return an empty list if shapeBox is empty\n",
        "\n",
        "    yMin = 99999\n",
        "    for p in shapeBox:\n",
        "        if p[1] < yMin:\n",
        "            first = p\n",
        "            yMin = p[1]\n",
        "        elif p[1] == yMin and p[0] < first[0]:\n",
        "            first = p\n",
        "    orderedPoints.append(first)\n",
        "\n",
        "    xMax = -99999\n",
        "    for p in shapeBox:\n",
        "        if p[0] > xMax:\n",
        "            second = p\n",
        "            xMax = p[0]\n",
        "        elif p[0] == xMax and p[1] < second[1]:\n",
        "            second = p\n",
        "    orderedPoints.append(second)\n",
        "\n",
        "    yMax = -99999\n",
        "    for p in shapeBox:\n",
        "        if p[1] > yMax:\n",
        "            third = p\n",
        "            yMax = p[1]\n",
        "        elif p[1] == yMax and p[0] > third[0]:\n",
        "            third = p\n",
        "    orderedPoints.append(third)\n",
        "\n",
        "    xMin = 99999\n",
        "    for p in shapeBox:\n",
        "        if p[0] < xMin:\n",
        "            fourth = p\n",
        "            xMin = p[0]\n",
        "        elif p[0] == xMin and p[1] > fourth[1]:\n",
        "            fourth = p\n",
        "    orderedPoints.append(fourth)\n",
        "\n",
        "    xSteps = int((orderedPoints[1][0] - orderedPoints[0][0]) / 10)\n",
        "    ySteps = int((orderedPoints[3][1] - orderedPoints[0][1]) / 10)\n",
        "\n",
        "    opposite = orderedPoints[1][0] - orderedPoints[0][0]\n",
        "    close = orderedPoints[1][1] - orderedPoints[0][1]\n",
        "\n",
        "    if close != 0:\n",
        "        angle = math.atan(opposite / close)\n",
        "    else:\n",
        "        angle = 0\n",
        "\n",
        "    grid = [[] for _ in range(ySteps + 1)]\n",
        "\n",
        "    for y in range(0, ySteps + 1):\n",
        "        for x in range(0, xSteps + 1):\n",
        "            grid[y].append([orderedPoints[0][0] + x * 10, orderedPoints[0][1] + y * 10])\n",
        "\n",
        "    return grid"
      ],
      "metadata": {
        "id": "EzEeeoeq8BpJ"
      },
      "execution_count": 221,
      "outputs": []
    },
    {
      "cell_type": "code",
      "source": [
        "def valid_grid_points(grid_points, boundary_points):\n",
        "    valid_points = []\n",
        "    for i in boundary_points:\n",
        "        for j in grid_points:\n",
        "            if dist(i, j) <= 5 and j not in valid_points:\n",
        "                valid_points.append(j)\n",
        "                break\n",
        "    return valid_points"
      ],
      "metadata": {
        "id": "lcH5O1UI7yP2"
      },
      "execution_count": 222,
      "outputs": []
    },
    {
      "cell_type": "code",
      "source": [
        "def get_chain_code(boundary):\n",
        "    current = boundary[-1]\n",
        "    chain = []\n",
        "    for i in boundary:\n",
        "        dx = i[0]-current[0]\n",
        "        dy = i[1]-current[1]\n",
        "        if dx < 0 and dy == 0:\n",
        "            chain.append(0)\n",
        "        if dx < 0 and dy < 0:\n",
        "            chain.append(1)\n",
        "        if dx == 0 and dy < 0:\n",
        "            chain.append(2)\n",
        "        if dx > 0 and dy < 0:\n",
        "            chain.append(3)\n",
        "        if dx > 0 and dy == 0:\n",
        "            chain.append(4)\n",
        "        if dx > 0 and dy > 0:\n",
        "            chain.append(5)\n",
        "        if dx == 0 and dy > 0:\n",
        "            chain.append(6)\n",
        "        if dx < 0 and dy > 0:\n",
        "            chain.append(7)\n",
        "        current = i\n",
        "    return chain"
      ],
      "metadata": {
        "id": "E9YIacwV8Ph4"
      },
      "execution_count": 223,
      "outputs": []
    },
    {
      "cell_type": "code",
      "source": [
        "def cyclic_equiv(u, v):\n",
        "    u_filtered = list(filter(lambda n: n != 0, u))\n",
        "    v_filtered = list(filter(lambda n: n != 0, v))\n",
        "    n, i, j = len(u_filtered), 0, 0\n",
        "    if n != len(v_filtered):\n",
        "        return False\n",
        "    while i < n and j < n:\n",
        "        k = 1\n",
        "        while k <= n and u_filtered[(i + k) % n] == v_filtered[(j + k) % n]:\n",
        "            k += 1\n",
        "        if k > n:\n",
        "            return True\n",
        "        if u_filtered[(i + k) % n] > v_filtered[(j + k) % n]:\n",
        "            i += k\n",
        "        else:\n",
        "            j += k\n",
        "    return False"
      ],
      "metadata": {
        "id": "NoNKnnrz8TeS"
      },
      "execution_count": 224,
      "outputs": []
    },
    {
      "cell_type": "code",
      "source": [
        "def classify(diff):\n",
        "\n",
        "    no_zeroes = filter(lambda n: n != 0, diff)\n",
        "\n",
        "    if cyclic_equiv(no_zeroes, [2, 2, 2, 2, 2, 6]):\n",
        "        return \"l-shape\"\n",
        "\n",
        "    if no_zeroes == [2, 2, 2, 2]:\n",
        "        firstTwo = diff.index(2)\n",
        "        firstZeroes = 0\n",
        "        secondZeroes = 0\n",
        "        first = True\n",
        "        for n in diff[firstTwo + 1:]:\n",
        "            if n == 0 and first:\n",
        "                firstZeroes += 1\n",
        "            elif n == 0:\n",
        "                secondZeroes += 1\n",
        "            elif first:\n",
        "                first = False\n",
        "            else:\n",
        "                break\n",
        "\n",
        "        if firstZeroes == secondZeroes:\n",
        "            return \"square\"\n",
        "        else:\n",
        "            return \"rectangle\"\n",
        "\n",
        "    if cyclic_equiv(no_zeroes, [2, 3, 3]):\n",
        "        return \"triangle\"\n",
        "\n",
        "    counter = 0\n",
        "    edges = 0\n",
        "    for n in diff:\n",
        "        if n > 4:\n",
        "            counter -= (8 - n)\n",
        "        else:\n",
        "            counter += n\n",
        "        if counter > 3 * (edges + 1):\n",
        "            edges += 1\n",
        "    if edges == 3:\n",
        "        return \"triangle\"\n",
        "\n",
        "    return diff"
      ],
      "metadata": {
        "id": "c9Z0xLnp8XzS"
      },
      "execution_count": 225,
      "outputs": []
    },
    {
      "cell_type": "code",
      "source": [
        "def circular_distance_tracing(centroid, boundary):\n",
        "    distance_list = []\n",
        "    for i in boundary:\n",
        "        distance_list.append(dist(centroid, i))\n",
        "    return distance_list\n",
        "\n",
        "\n",
        "def shape_detection(distance_list):\n",
        "    avarage_dist = sum(distance_list)/len(distance_list)"
      ],
      "metadata": {
        "id": "kK7oqbib8fsC"
      },
      "execution_count": 226,
      "outputs": []
    },
    {
      "cell_type": "code",
      "source": [
        "user_input = int(input(\"1) triangle\\n2) rectangle\\n3) ellipse\\n4) L-shape\\n\"))\n",
        "image_src = \"\"\n",
        "if user_input == 1:\n",
        "    image_src = 'triangle5.png'\n",
        "elif user_input == 2:\n",
        "    image_src = 'rectangle2.png'\n",
        "elif user_input == 3:\n",
        "    image_src = 'ellipse.png'\n",
        "else:\n",
        "    image_src = 'lshape.png'\n",
        "image = cv2.imread(image_src, 0)\n",
        "\n",
        "(thresh, im_bw) = cv2.threshold(image, 128, 255, cv2.THRESH_BINARY | cv2.THRESH_OTSU)\n",
        "thresh = 127\n",
        "binary_img = cv2.threshold(image, thresh, 255, cv2.THRESH_BINARY)[1]\n",
        "\n",
        "# extracting boundary points & chain code through Moore-Neighbor algorithm\n",
        "boundary_points, chain_code = boundary_and_chain(binary_img)\n",
        "\n",
        "#making new binary image from boundary points\n",
        "boundary_img = np.zeros(image.shape, np.uint8)\n",
        "for i in boundary_points:\n",
        "    boundary_img[i[0]][i[1]] = 255\n",
        "\n",
        "# subsample of boundary points\n",
        "subsample = subsample_set(boundary_points)\n",
        "subsample_img = np.zeros(image.shape, np.uint8)\n",
        "for i in subsample:\n",
        "    subsample_img[i[0]][i[1]] = 255\n"
      ],
      "metadata": {
        "colab": {
          "base_uri": "https://localhost:8080/"
        },
        "id": "0BuyFhSw8pSD",
        "outputId": "56d75063-4cac-4c27-c184-0eea3c364859"
      },
      "execution_count": 227,
      "outputs": [
        {
          "output_type": "stream",
          "name": "stdout",
          "text": [
            "1) triangle\n",
            "2) rectangle\n",
            "3) ellipse\n",
            "4) L-shape\n",
            "4\n",
            "Length of Boundary: 927\n"
          ]
        }
      ]
    },
    {
      "cell_type": "code",
      "source": [
        "temp = []\n",
        "for i in boundary_points:\n",
        "    temp.append((i[1], i[0]))\n",
        "numpy_boundary = np.array(temp)\n",
        "\n",
        "rect = cv2.minAreaRect(numpy_boundary)\n",
        "box = cv2.boxPoints(rect)\n",
        "box = np.intp(box)\n",
        "cv2.drawContours(boundary_img, [shapeBox(box, 10)], 0, (255, 0, 0), 1)\n",
        "\n",
        "# eccentricity\n",
        "box_ratio = boxRatio(box)\n",
        "g = grid(shapeBox(box, 10))\n",
        "flat_g = [item for sublist in g for item in sublist]\n",
        "v = valid_grid_points(flat_g, temp)\n",
        "chain = get_chain_code(v)\n",
        "f_diff = first_difference(chain)"
      ],
      "metadata": {
        "id": "QxDgmouN9KMB"
      },
      "execution_count": 228,
      "outputs": []
    },
    {
      "cell_type": "code",
      "source": [
        "f, ax = plt.subplots(1,3, figsize=(12,6))\n",
        "ax[0].imshow(image, cmap='gray')\n",
        "ax[0].set_title(\"Image\")\n",
        "ax[1].imshow(boundary_img, cmap='gray')\n",
        "ax[1].set_title(\"Bounding Box & Boundary\")\n",
        "\n",
        "subsample_img = cv2.dilate(subsample_img, np.ones((5, 5), np.uint8))\n",
        "ax[2].imshow(subsample_img, cmap='gray')\n",
        "ax[2].set_title(\"Subsampled Image\")"
      ],
      "metadata": {
        "colab": {
          "base_uri": "https://localhost:8080/",
          "height": 335
        },
        "id": "kOnSQ6YZ9PYW",
        "outputId": "a7a244d4-a61f-48c3-92d7-f1ca92054c6b"
      },
      "execution_count": 229,
      "outputs": [
        {
          "output_type": "execute_result",
          "data": {
            "text/plain": [
              "Text(0.5, 1.0, 'Subsampled Image')"
            ]
          },
          "metadata": {},
          "execution_count": 229
        },
        {
          "output_type": "display_data",
          "data": {
            "text/plain": [
              "<Figure size 1200x600 with 3 Axes>"
            ],
            "image/png": "[encoded data removed]"
          },
          "metadata": {}
        }
      ]
    },
    {
      "cell_type": "code",
      "source": [
        "print(\"Chain Code:\",chain)\n",
        "print(\"First Difference:\",f_diff)\n",
        "print(\"Predicted Class:\", classify(f_diff))\n",
        "\n",
        "histogram = {0: 0, 1: 0, 2: 0, 3: 0, 4: 0, 5: 0, 6: 0, 7: 0}\n",
        "for i in chain_code:\n",
        "    histogram[i] += 1\n",
        "print(\"Histogram:\",histogram)\n",
        "\n",
        "for p in v:\n",
        "    cv2.circle(boundary_img, (p[0], p[1]), 3, (255, 0, 255), -1)"
      ],
      "metadata": {
        "colab": {
          "base_uri": "https://localhost:8080/"
        },
        "id": "at-sf63I_tgo",
        "outputId": "7a162763-8988-4372-a443-0b5f2ffe7e60"
      },
      "execution_count": 230,
      "outputs": [
        {
          "output_type": "stream",
          "name": "stdout",
          "text": [
            "Chain Code: [2, 2, 4, 4, 4, 4, 4, 4, 4, 4, 4, 6, 6, 6, 6, 6, 6, 6, 6, 6, 6, 6, 6, 6, 6, 6, 4, 4, 4, 4, 4, 4, 4, 4, 4, 4, 4, 4, 4, 4, 6, 6, 6, 6, 6, 6, 6, 6, 6, 0, 0, 0, 0, 0, 0, 0, 0, 0, 0, 0, 0, 0, 0, 0, 0, 0, 0, 0, 0, 0, 0, 0, 2, 2, 2, 2, 2, 2, 2, 2, 2, 2, 2, 2, 2, 2, 2, 2, 2, 2, 2, 2, 2, 2, 2]\n",
            "First Difference: [0, 2, 0, 0, 0, 0, 0, 0, 0, 0, 2, 0, 0, 0, 0, 0, 0, 0, 0, 0, 0, 0, 0, 0, 0, 6, 0, 0, 0, 0, 0, 0, 0, 0, 0, 0, 0, 0, 0, 2, 0, 0, 0, 0, 0, 0, 0, 0, 2, 0, 0, 0, 0, 0, 0, 0, 0, 0, 0, 0, 0, 0, 0, 0, 0, 0, 0, 0, 0, 0, 0, 2, 0, 0, 0, 0, 0, 0, 0, 0, 0, 0, 0, 0, 0, 0, 0, 0, 0, 0, 0, 0, 0, 0]\n",
            "Predicted Class: l-shape\n",
            "Histogram: {0: 226, 1: 0, 2: 237, 3: 0, 4: 226, 5: 1, 6: 236, 7: 0}\n"
          ]
        }
      ]
    },
    {
      "cell_type": "markdown",
      "source": [
        "# *References:*\n",
        "\n",
        "https://github.com/folkestad/Recognize-Simple-Shapes-OpenCV/blob/master/chaincode.py\n",
        "\n",
        "https://www.kaggle.com/code/mburger/freeman-chain-code-script/script"
      ],
      "metadata": {
        "id": "UKAHL_c5CS96"
      }
    }
  ]
}