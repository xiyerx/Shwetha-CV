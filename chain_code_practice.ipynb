{
  "nbformat": 4,
  "nbformat_minor": 0,
  "metadata": {
    "colab": {
      "provenance": []
    },
    "kernelspec": {
      "name": "python3",
      "display_name": "Python 3"
    },
    "language_info": {
      "name": "python"
    }
  },
  "cells": [
    {
      "cell_type": "code",
      "execution_count": 275,
      "metadata": {
        "id": "vZ-Qqe3GS0m9"
      },
      "outputs": [],
      "source": [
        "import cv2\n",
        "import matplotlib.pyplot as plt\n",
        "import numpy as np"
      ]
    },
    {
      "cell_type": "code",
      "source": [
        "img = np.zeros([50,50], dtype=int)\n",
        "pattern = np.array([[1, 1, 1, 1, 1, 1, 1, 1, 1, 1, 1, 1, 1, 1, 1, 1, 0, 0, 0, 0, 0],\n",
        "                    [1, 0, 0, 0, 0, 0, 0, 0, 0, 0, 0, 0, 0, 0, 0, 0, 1, 0, 0, 0, 0],\n",
        "                    [1, 0, 0, 0, 0, 0, 0, 0, 0, 0, 0, 0, 0, 0, 0, 0, 0, 1, 0, 0, 0],\n",
        "                    [1, 0, 0, 0, 0, 0, 0, 0, 0, 0, 0, 0, 0, 0, 0, 0, 0, 0, 1, 0, 0],\n",
        "                    [1, 0, 0, 0, 0, 0, 0, 0, 0, 0, 0, 0, 0, 0, 0, 0, 0, 0, 0, 1, 0],\n",
        "                    [1, 0, 0, 0, 0, 0, 0, 0, 0, 0, 0, 0, 0, 0, 0, 0, 0, 0, 0, 0, 1],\n",
        "                    [1, 0, 0, 0, 0, 0, 0, 0, 0, 0, 0, 0, 0, 0, 0, 0, 0, 0, 0, 1, 0],\n",
        "                    [1, 0, 0, 0, 0, 0, 0, 0, 0, 0, 0, 0, 0, 0, 0, 0, 0, 0, 1, 0, 0],\n",
        "                    [1, 0, 0, 0, 0, 0, 0, 0, 0, 0, 0, 0, 0, 0, 0, 0, 0, 1, 0, 0, 0],\n",
        "                    [1, 0, 0, 0, 0, 0, 0, 0, 0, 0, 0, 0, 0, 0, 0, 0, 1, 0, 0, 0, 0],\n",
        "                    [1, 1, 1, 1, 1, 1, 1, 1, 1, 1, 1, 1, 1, 1, 1, 1, 0, 0, 0, 0, 0]])\n",
        "img[20:31,15:36] = pattern*255\n",
        "plt.imshow(img, cmap='gray')"
      ],
      "metadata": {
        "colab": {
          "base_uri": "https://localhost:8080/",
          "height": 450
        },
        "id": "TK3SonWkS5_5",
        "outputId": "a5d6c753-7f63-4573-c3e4-9542ddfa5a97"
      },
      "execution_count": 276,
      "outputs": [
        {
          "output_type": "execute_result",
          "data": {
            "text/plain": [
              "<matplotlib.image.AxesImage at 0x7a60e661f700>"
            ]
          },
          "metadata": {},
          "execution_count": 276
        },
        {
          "output_type": "display_data",
          "data": {
            "text/plain": [
              "<Figure size 640x480 with 1 Axes>"
            ],
            "image/png": "[encoded data removed]"
          },
          "metadata": {}
        }
      ]
    },
    {
      "cell_type": "markdown",
      "source": [
        "# ***Finding Chain Code from Shape***"
      ],
      "metadata": {
        "id": "KSuzr0YbwOWP"
      }
    },
    {
      "cell_type": "code",
      "source": [
        "# Discover the starting point\n",
        "for i, row in enumerate(img):\n",
        "    for j, value in enumerate(row):\n",
        "        if value != 0:\n",
        "            start_point = (i, j)\n",
        "            break\n",
        "\n",
        "print(start_point)"
      ],
      "metadata": {
        "colab": {
          "base_uri": "https://localhost:8080/"
        },
        "id": "h3sdrm5bmKL-",
        "outputId": "ca6a0596-bc10-41ba-ccb2-628e2ff9f9f3"
      },
      "execution_count": 277,
      "outputs": [
        {
          "output_type": "stream",
          "name": "stdout",
          "text": [
            "(30, 15)\n"
          ]
        }
      ]
    },
    {
      "cell_type": "code",
      "source": [
        "directions = [0, 1, 2, 3, 4, 5, 6, 7]\n",
        "change_i = [1, 1, 0, -1, -1, -1, 0, 1]\n",
        "change_j = [0, 1, 1, 1, 0, -1, -1, -1]"
      ],
      "metadata": {
        "id": "-vvIiRQToBj8"
      },
      "execution_count": 278,
      "outputs": []
    },
    {
      "cell_type": "code",
      "source": [
        "border = []\n",
        "chain = []\n",
        "curr_point = start_point\n",
        "for direction in directions:\n",
        "    new_point = (start_point[0]+change_i[direction], start_point[1]+change_j[direction])\n",
        "    if img[new_point] == 255: # if is ROI\n",
        "        border.append(new_point)\n",
        "        chain.append(direction)\n",
        "        curr_point = new_point\n",
        "        break"
      ],
      "metadata": {
        "id": "pJOLyvY7mQz9"
      },
      "execution_count": 279,
      "outputs": []
    },
    {
      "cell_type": "markdown",
      "source": [
        "Here we are calculating the directions to search next in a way that ensures you won't revisit the same points and properly traverse the boundary.\n",
        "\n",
        "By starting the search from b_direction, you ensure that you don't move backward and revisit already visited points, and by iterating clockwise (from b_direction to 7 and then from 0 to b_direction), you ensure that you continue to traverse the boundary in one direction until you reach the starting point again."
      ],
      "metadata": {
        "id": "mpyf0wUTsJFq"
      }
    },
    {
      "cell_type": "code",
      "source": [
        "count = 0\n",
        "while curr_point != start_point:\n",
        "    #figure direction to start search\n",
        "    b_direction = (direction + 5) % 8\n",
        "    dirs_1 = range(b_direction, 8)\n",
        "    dirs_2 = range(0, b_direction)\n",
        "    dirs = []\n",
        "    dirs.extend(dirs_1)\n",
        "    dirs.extend(dirs_2)\n",
        "    for direction in dirs:\n",
        "        new_point = (curr_point[0]+change_i[direction], curr_point[1]+change_j[direction])\n",
        "        if img[new_point] != 0: # if is ROI\n",
        "            border.append(new_point)\n",
        "            chain.append(direction)\n",
        "            curr_point = new_point\n",
        "            break\n",
        "    if count == 1000: break\n",
        "    count += 1"
      ],
      "metadata": {
        "id": "Xl-e9YMqmTON"
      },
      "execution_count": 280,
      "outputs": []
    },
    {
      "cell_type": "code",
      "source": [
        "print(chain)"
      ],
      "metadata": {
        "colab": {
          "base_uri": "https://localhost:8080/"
        },
        "id": "xiOKbQi8moyt",
        "outputId": "85ed53d6-8c0d-42fb-b771-795d77c50917"
      },
      "execution_count": 281,
      "outputs": [
        {
          "output_type": "stream",
          "name": "stdout",
          "text": [
            "[2, 2, 2, 2, 2, 2, 2, 2, 2, 2, 2, 2, 2, 2, 2, 3, 3, 3, 3, 3, 5, 5, 5, 5, 5, 6, 6, 6, 6, 6, 6, 6, 6, 6, 6, 6, 6, 6, 6, 6, 0, 0, 0, 0, 0, 0, 0, 0, 0, 0]\n"
          ]
        }
      ]
    },
    {
      "cell_type": "code",
      "source": [
        "first_diff = []\n",
        "for i in range(len(chain) - 1):\n",
        "    first_diff.append(abs(chain[i + 1] - chain[i]) % 8)\n",
        "print(first_diff)"
      ],
      "metadata": {
        "colab": {
          "base_uri": "https://localhost:8080/"
        },
        "id": "cDDJ49bMwf4f",
        "outputId": "e942ad3d-ff46-41bd-b502-d622a7738f38"
      },
      "execution_count": 282,
      "outputs": [
        {
          "output_type": "stream",
          "name": "stdout",
          "text": [
            "[0, 0, 0, 0, 0, 0, 0, 0, 0, 0, 0, 0, 0, 0, 1, 0, 0, 0, 0, 2, 0, 0, 0, 0, 1, 0, 0, 0, 0, 0, 0, 0, 0, 0, 0, 0, 0, 0, 0, 6, 0, 0, 0, 0, 0, 0, 0, 0, 0]\n"
          ]
        }
      ]
    },
    {
      "cell_type": "code",
      "source": [
        "print(border)"
      ],
      "metadata": {
        "colab": {
          "base_uri": "https://localhost:8080/"
        },
        "id": "JLUHDrJFtdSA",
        "outputId": "e2af3046-b522-4177-9d0a-06b2bc6683f0"
      },
      "execution_count": 283,
      "outputs": [
        {
          "output_type": "stream",
          "name": "stdout",
          "text": [
            "[(30, 16), (30, 17), (30, 18), (30, 19), (30, 20), (30, 21), (30, 22), (30, 23), (30, 24), (30, 25), (30, 26), (30, 27), (30, 28), (30, 29), (30, 30), (29, 31), (28, 32), (27, 33), (26, 34), (25, 35), (24, 34), (23, 33), (22, 32), (21, 31), (20, 30), (20, 29), (20, 28), (20, 27), (20, 26), (20, 25), (20, 24), (20, 23), (20, 22), (20, 21), (20, 20), (20, 19), (20, 18), (20, 17), (20, 16), (20, 15), (21, 15), (22, 15), (23, 15), (24, 15), (25, 15), (26, 15), (27, 15), (28, 15), (29, 15), (30, 15)]\n"
          ]
        }
      ]
    },
    {
      "cell_type": "markdown",
      "source": [
        "# ***Finding Shape from Chain Code***"
      ],
      "metadata": {
        "id": "eWaIOdIWwWKn"
      }
    },
    {
      "cell_type": "code",
      "source": [
        "curr_pos = (0, 0)\n",
        "directions = [(0, -1), (1, -1), (1, 0), (1, 1), (0, 1), (-1, 1), (-1, 0), (-1, -1), (0, -1), (-1, -1)]\n",
        "boundary = [curr_pos]\n",
        "for direction in chain:\n",
        "    curr_pos = (curr_pos[0] + directions[direction][0], curr_pos[1] + directions[direction][1])\n",
        "    boundary.append(curr_pos)\n",
        "\n",
        "plt.plot(*zip(*boundary), marker='*', color='black', linestyle='-')\n",
        "plt.title(\"Border\")"
      ],
      "metadata": {
        "colab": {
          "base_uri": "https://localhost:8080/",
          "height": 470
        },
        "id": "70-kP8bjXsUV",
        "outputId": "2261a604-862d-424d-bfa4-51134e7ad03f"
      },
      "execution_count": 284,
      "outputs": [
        {
          "output_type": "execute_result",
          "data": {
            "text/plain": [
              "Text(0.5, 1.0, 'Border')"
            ]
          },
          "metadata": {},
          "execution_count": 284
        },
        {
          "output_type": "display_data",
          "data": {
            "text/plain": [
              "<Figure size 640x480 with 1 Axes>"
            ],
            "image/png": "[encoded data removed]"
          },
          "metadata": {}
        }
      ]
    }
  ]
}